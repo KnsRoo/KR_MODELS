{
 "cells": [
  {
   "cell_type": "code",
   "execution_count": 4,
   "id": "bc78a844",
   "metadata": {},
   "outputs": [],
   "source": [
    "import numpy as np\n",
    "import pandas as pd"
   ]
  },
  {
   "cell_type": "code",
   "execution_count": 2,
   "id": "8b609fc5",
   "metadata": {},
   "outputs": [],
   "source": [
    "def static_model_construction(year):\n",
    "    # code\n",
    "    return (Iw, Rw, P, V, Y, W, RubUSDRate, GDPError, StaticModelError) "
   ]
  },
  {
   "cell_type": "code",
   "execution_count": null,
   "id": "087f3361",
   "metadata": {},
   "outputs": [],
   "source": [
    "def aggregation(Iw, Rw, aggregateIndustriesNumber):\n",
    "    m = np.max(aggregateIndustriesNumber)\n",
    "    aggregateIndustry = np.zeros(m)\n",
    "    Ia = np.zeros((m,1))\n",
    "    Ra = np.zeros(m)\n",
    "    industryAmount = 0\n",
    "    for i in range(m):\n",
    "        aggreagateIndustry[i] = np.where(aggregateIndustriesNumber == i)\n",
    "        Ia[i,1] = sum(Iw[aggregateIndustry[i]:1])\n",
    "        industryAmount = industryAmount + len(aggregateIndustry[i])\n",
    "    for i in range(m):\n",
    "        for j in range(m):\n",
    "            R1 = Rw[aggregateIndustry[i]:aggregateIndustry[j]]\n",
    "            I1 = Iw[aggregateIndustry[j]]\n",
    "            Ra[i,j] = np.sum(R1*I1)/Ia[j,1]\n",
    "    return (Ra, Ia)"
   ]
  },
  {
   "cell_type": "code",
   "execution_count": 11,
   "id": "2a7184fd",
   "metadata": {},
   "outputs": [
    {
     "name": "stdout",
     "output_type": "stream",
     "text": [
      "(array([0, 2, 4], dtype=int64),)\n"
     ]
    }
   ],
   "source": [
    "def reduction(Iw, Rw, unreducedIndustriesNumbers):\n",
    "    n = np.shape(Iw)[0]-1\n",
    "    reducedIndustriesNumbers = np.setdiff1d([i for i in range(1,n+2)], unreducedIndustriesNumbers)\n",
    "    n1 = len(reducedIndustriesNumbers)\n",
    "    R11 = Rw[unreducedIndustriesNumbers,unreducedIndustriesNumbers]\n",
    "    R12 = Rw[unreducedIndustriesNumbers,reducedIndustriesNumbers]\n",
    "    R21 = Rw[reducedIndustriesNumbers,unreducedIndustriesNumbers]\n",
    "    R22 = Rw[reducedIndustriesNumbers,reducedIndustriesNumbers]\n",
    "    \n",
    "    Ir = Iw[unreducedIndustriesNumbers,1]\n",
    "    Rr = R11 + R12 * np.linalg.inv(np.eye(n1)-R22) * R21\n",
    "    return (Ir, Rr)"
   ]
  },
  {
   "cell_type": "code",
   "execution_count": 24,
   "id": "f56aa9e5",
   "metadata": {},
   "outputs": [],
   "source": [
    "def IndexesComputation(Iw, V, Y, W, Vb, Wb, rf):\n",
    "    rg = Vb/Iw[-1];\n",
    "    Cn = Vb + np.sum(W)*(1-rf);\n",
    "    Rc = Cn/np.sum(V);\n",
    "    rw = np.sum(W)/np.sum(V);\n",
    "    Rh = 1 - Rc;\n",
    "    Prb = Vb - Wb;\n",
    "    Pcb = np.sum(Y)+Wb;\n",
    "    Rntb = Prb/Pcb;\n",
    "    Rsb = Pcb/Iw[-1];\n",
    "    \n",
    "    return (rg, Cn, Rc, rw, Rh, Prb, Pcb, Rhtb, Rsb)"
   ]
  },
  {
   "cell_type": "code",
   "execution_count": 27,
   "id": "f6f587b0",
   "metadata": {},
   "outputs": [
    {
     "name": "stdout",
     "output_type": "stream",
     "text": [
      "1\n"
     ]
    }
   ],
   "source": [
    "def EfficiencyAnalysis(Ra, Ia, W):\n",
    "    Rp = Ra[1,1]\n",
    "    Vr = Ra[1,2]\n",
    "    Is = Ia[1,1]\n",
    "    Wr = np.sum(W)/Is\n",
    "    Prr = Vr - Wr\n",
    "    Rsp = Rp + Wr\n",
    "    Rnt = Prr/Rsp\n",
    "    return (Prr, Rsp, Rnt)\n",
    "    "
   ]
  },
  {
   "cell_type": "code",
   "execution_count": null,
   "id": "5487214c",
   "metadata": {},
   "outputs": [],
   "source": [
    "def DifferentialModelConstruction(I, ILast, R):\n",
    "    M = np.diag((I-ILast)/I)\n",
    "    D = M*R"
   ]
  },
  {
   "cell_type": "code",
   "execution_count": null,
   "id": "56a9baf5",
   "metadata": {},
   "outputs": [],
   "source": [
    "def DifferenceModelConstruction(I, ILast, R):\n",
    "    M = np.eye(np.shape(I)[0])+np.diag((I-ILast)/I)\n",
    "    D = M*R"
   ]
  },
  {
   "cell_type": "code",
   "execution_count": 31,
   "id": "5fb595cf",
   "metadata": {},
   "outputs": [
    {
     "name": "stdout",
     "output_type": "stream",
     "text": [
      "[1 3 5]\n"
     ]
    }
   ],
   "source": [
    "A = np.array([3, 6, 2, 1, 5, 1, 1])\n",
    "B = np.array([2, 4, 6])\n",
    "C = np.setdiff1d(A,B)\n",
    "print(C)"
   ]
  },
  {
   "cell_type": "code",
   "execution_count": 35,
   "id": "97eba407",
   "metadata": {},
   "outputs": [
    {
     "name": "stdout",
     "output_type": "stream",
     "text": [
      "[1, 2, 3, 4, 5]\n"
     ]
    }
   ],
   "source": [
    "n = 4\n",
    "print([i for i in range(1,n+2)])"
   ]
  },
  {
   "cell_type": "code",
   "execution_count": null,
   "id": "85d4a698",
   "metadata": {},
   "outputs": [],
   "source": [
    "z = np.array([1,2,3])\n",
    "print(z)"
   ]
  }
 ],
 "metadata": {
  "kernelspec": {
   "display_name": "Python 3 (ipykernel)",
   "language": "python",
   "name": "python3"
  },
  "language_info": {
   "codemirror_mode": {
    "name": "ipython",
    "version": 3
   },
   "file_extension": ".py",
   "mimetype": "text/x-python",
   "name": "python",
   "nbconvert_exporter": "python",
   "pygments_lexer": "ipython3",
   "version": "3.9.6"
  }
 },
 "nbformat": 4,
 "nbformat_minor": 5
}
