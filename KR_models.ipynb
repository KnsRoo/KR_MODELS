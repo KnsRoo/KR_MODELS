{
 "cells": [
  {
   "cell_type": "code",
   "execution_count": 2,
   "id": "bc78a844",
   "metadata": {},
   "outputs": [],
   "source": [
    "import numpy as np\n",
    "import pandas as pd\n",
    "import openpyxl\n",
    "import pandas as pd\n",
    "import scipy as scp\n",
    "import matplotlib.pyplot as plt"
   ]
  },
  {
   "cell_type": "code",
   "execution_count": 3,
   "id": "e2accfa8",
   "metadata": {},
   "outputs": [],
   "source": [
    "def yearLetter(year):\n",
    "    A = {\n",
    "        1995: 'E',\n",
    "        1996: 'F',\n",
    "        1997: 'G',\n",
    "        1998: 'H',\n",
    "        1999: 'I',\n",
    "        2000: 'J',\n",
    "        2001: 'K',\n",
    "        2002: 'L',\n",
    "        2003: 'M',\n",
    "        2004: 'N',\n",
    "        2005: 'O',\n",
    "        2006: 'P',\n",
    "        2007: 'Q',\n",
    "        2008: 'R',\n",
    "        2009: 'S'\n",
    "    }\n",
    "    return A[year]"
   ]
  },
  {
   "cell_type": "code",
   "execution_count": 42,
   "id": "097ce2ef",
   "metadata": {},
   "outputs": [],
   "source": [
    "def read_excel(filename, sheet, dims):\n",
    "    wb = openpyxl.load_workbook(filename=filename, \n",
    "                   read_only=True)\n",
    "\n",
    "    ws = wb[sheet]\n",
    "\n",
    "    data_rows = []\n",
    "    for row in ws[dims[0]:dims[1]]:\n",
    "        data_cols = []\n",
    "        for cell in row:\n",
    "            data_cols.append(cell.value)\n",
    "        data_rows.append(data_cols)\n",
    "    return np.array(data_rows)"
   ]
  },
  {
   "cell_type": "code",
   "execution_count": 327,
   "id": "8b609fc5",
   "metadata": {},
   "outputs": [],
   "source": [
    "def StaticModelConstruction(year):\n",
    "    IOTableWorksheet = str(year);\n",
    "    L = yearLetter(year);\n",
    "    \n",
    "    IO = read_excel('JPN_NIOT.xlsx', IOTableWorksheet, ('E7','AL40'))\n",
    "    ImportsIO = read_excel('JPN_NIOT.xlsx', IOTableWorksheet, ('E42','AL76'))\n",
    "    ValueAdded = read_excel('JPN_NIOT.xlsx', IOTableWorksheet, ('E78','AL83'))\n",
    "    Taxes = read_excel('JPN_NIOT.xlsx', IOTableWorksheet, ('AN78','AR83'))\n",
    "    Consumption = read_excel('JPN_NIOT.xlsx', IOTableWorksheet, ('AN7','AR40'))\n",
    "    Exports = read_excel('JPN_NIOT.xlsx', IOTableWorksheet, ('AS7','AS40'))\n",
    "    Output = read_excel('JPN_NIOT.xlsx', IOTableWorksheet, ('AT7','AT40'))\n",
    "    Compensation = read_excel('Compensation.xlsx', 'DATA', (L+'19911',L+'19944'))\n",
    "    Rate = read_excel('Exchange.xlsx', 'EXR', ('C27','Q27'))\n",
    "    JPNGDP = read_excel('JPN_GDP.xlsx','Data',('E2','S2'))\n",
    "\n",
    "    P = IO;\n",
    "    V = np.sum(ValueAdded, axis=0)\n",
    "    Y = np.sum(Consumption, axis=1)\n",
    "    Tx0 = np.sum(Taxes, axis=0)\n",
    "    Tx = np.sum(Tx0);\n",
    "    Im = np.sum(ImportsIO, axis=0);\n",
    "    Ex = Exports;\n",
    "    I = Output;\n",
    "    realGDP = JPNGDP*1000*Rate;\n",
    "    W = Compensation*Rate;\n",
    "    GDP = np.sum(V) + Tx;\n",
    "    GDPError = abs(realGDP-GDP)/realGDP;\n",
    "    n = np.shape(I)[0];\n",
    "    Iw = I - np.asmatrix(Im).H;\n",
    "    Yw = Y + Ex - np.asmatrix(Im).H;\n",
    "    Yw = np.diagonal(Yw).reshape(-1,1)\n",
    "    R = np.zeros((n,n));\n",
    "    for i in range(n):\n",
    "        R[:,i] = P[:,i]/Iw[i,0];\n",
    "    Iw = list(Iw)\n",
    "    Iw.append([GDP])\n",
    "    Iw = np.asmatrix(Iw)\n",
    "    Vwr = np.divide(V, np.asmatrix(Iw[0:n]).H);\n",
    "    Wwr = np.divide(V, np.asmatrix(Iw[0:n]).H);\n",
    "    Ywr = Yw/GDP;\n",
    "    Txr = Tx/GDP;\n",
    "    Rw1 = list(Ywr)\n",
    "    Rw1.append([Txr])\n",
    "    Rw1 = np.array(Rw1)\n",
    "    Rw0 = np.hstack((R, Ywr))\n",
    "    Rw1 = Rw1.T\n",
    "    Rw = np.vstack((Rw0,Rw1))\n",
    "    StaticModelError = np.linalg.norm(Iw-Rw*Iw);\n",
    "                  \n",
    "    return (Iw, Rw, P, V, Y, W, Rate, GDPError, StaticModelError) "
   ]
  },
  {
   "cell_type": "code",
   "execution_count": 352,
   "id": "087f3361",
   "metadata": {},
   "outputs": [],
   "source": [
    "def aggregation(Iw, Rw, aggregateIndustriesNumber):\n",
    "    print(aggregateIndustriesNumber)\n",
    "    m = np.max(aggregateIndustriesNumber)\n",
    "    aggregateIndustry = [0 for i in range(m)]\n",
    "    print(m)\n",
    "    Ia = np.zeros((m,1))\n",
    "    Ra = np.zeros((m,m))\n",
    "    industryAmount = 0\n",
    "    for i in range(m):\n",
    "        NB = np.where(aggregateIndustriesNumber == i)[0]\n",
    "        if (len(NB) != 0):\n",
    "            aggregateIndustry[i] = NB[0]\n",
    "        Ia[i,0] = np.sum(Iw[aggregateIndustry[i],0])\n",
    "        #industryAmount = industryAmount + len(aggregateIndustry[i])\n",
    "    print(aggregateIndustry)\n",
    "    for i in range(m):\n",
    "        for j in range(m):\n",
    "            R1 = Rw[aggregateIndustry[i],aggregateIndustry[j]]\n",
    "            I1 = Iw[aggregateIndustry[j]]\n",
    "            print(R1)\n",
    "            Ra[i,j] = np.sum(R1*I1)/Ia[j,0]\n",
    "    return (Ra, Ia)"
   ]
  },
  {
   "cell_type": "code",
   "execution_count": 356,
   "id": "2a7184fd",
   "metadata": {},
   "outputs": [],
   "source": [
    "def reduction(Iw, Rw, unreducedIndustriesNumbers):\n",
    "    n = np.shape(Iw)[0]-1\n",
    "    reducedIndustriesNumbers = np.setdiff1d([i for i in range(1,n+2)], unreducedIndustriesNumbers)\n",
    "    n1 = len(reducedIndustriesNumbers)\n",
    "    R11 =\n",
    "    for i in range(n1):\n",
    "        \n",
    "    R11 = Rw[unreducedIndustriesNumbers,unreducedIndustriesNumbers]\n",
    "    R12 = Rw[unreducedIndustriesNumbers,reducedIndustriesNumbers]\n",
    "    R21 = Rw[reducedIndustriesNumbers,unreducedIndustriesNumbers]\n",
    "    R22 = Rw[reducedIndustriesNumbers,reducedIndustriesNumbers]\n",
    "    \n",
    "    Ir = Iw[unreducedIndustriesNumbers,0]\n",
    "    Rr = R11 + R12 * np.linalg.inv(np.eye(n1)-R22) * R21\n",
    "    return (Ir, Rr)"
   ]
  },
  {
   "cell_type": "code",
   "execution_count": 13,
   "id": "f56aa9e5",
   "metadata": {},
   "outputs": [],
   "source": [
    "def IndexesComputation(Iw, V, Y, W, Vb, Wb, rf):\n",
    "    rg = Vb/Iw[-1];\n",
    "    Cn = Vb + np.sum(W)*(1-rf);\n",
    "    Rc = Cn/np.sum(V);\n",
    "    rw = np.sum(W)/np.sum(V);\n",
    "    Rh = 1 - Rc;\n",
    "    Prb = Vb - Wb;\n",
    "    Pcb = np.sum(Y)+Wb;\n",
    "    Rntb = Prb/Pcb;\n",
    "    Rsb = Pcb/Iw[-1];\n",
    "    \n",
    "    return (rg, Cn, Rc, rw, Rh, Prb, Pcb, Rhtb, Rsb)"
   ]
  },
  {
   "cell_type": "code",
   "execution_count": 14,
   "id": "f6f587b0",
   "metadata": {},
   "outputs": [],
   "source": [
    "def EfficiencyAnalysis(Ra, Ia, W):\n",
    "    Rp = Ra[1,1]\n",
    "    Vr = Ra[1,2]\n",
    "    Is = Ia[1,1]\n",
    "    Wr = np.sum(W)/Is\n",
    "    Prr = Vr - Wr\n",
    "    Rsp = Rp + Wr\n",
    "    Rnt = Prr/Rsp\n",
    "    return (Prr, Rsp, Rnt)\n",
    "    "
   ]
  },
  {
   "cell_type": "code",
   "execution_count": 15,
   "id": "5487214c",
   "metadata": {},
   "outputs": [],
   "source": [
    "def DifferentialModelConstruction(I, ILast, R):\n",
    "    M = np.diag((I-ILast)/I)\n",
    "    D = M*R"
   ]
  },
  {
   "cell_type": "code",
   "execution_count": 16,
   "id": "56a9baf5",
   "metadata": {},
   "outputs": [],
   "source": [
    "def DifferenceModelConstruction(I, ILast, R):\n",
    "    M = np.eye(np.shape(I)[0])+np.diag((I-ILast)/I)\n",
    "    D = M*R"
   ]
  },
  {
   "cell_type": "code",
   "execution_count": 17,
   "id": "5fb595cf",
   "metadata": {},
   "outputs": [],
   "source": [
    "def DifferentialModelPrognosis(I,D):\n",
    "    n,m = np.shape(I);\n",
    "    pI = np.zeros(n,m-1);\n",
    "    pError = np.zeros(n,m-1);\n",
    "    for i in range(m-1):\n",
    "        pI[:,i] = scp.linalg.expm(D[:,:,i]*I[:,i])\n",
    "        pError[:,i] = abs(pI[:,i]-I[:,i+1])/I[:,i+1]\n",
    "    pErrorMean = np.mean(pError, axis=1);\n",
    "    return (pI,pError,pErrorMean)"
   ]
  },
  {
   "cell_type": "code",
   "execution_count": 18,
   "id": "97eba407",
   "metadata": {},
   "outputs": [],
   "source": [
    "def DifferenceModelPrognosis(I,D):\n",
    "    n,m = np.shape(I);\n",
    "    pI = np.zeros(n,m-1);\n",
    "    pError = np.zeros(n,m-1);\n",
    "    for i in range(m-1):\n",
    "        pI[:,i] = D[:,:,i]*I[:,i]\n",
    "        pError[:,i] = abs(pI[:,i]-I[:,i+1])/I[:,i+1]\n",
    "    pErrorMean = np.mean(pError, axis=1);\n",
    "    return (pI,pError,pErrorMean)"
   ]
  },
  {
   "cell_type": "code",
   "execution_count": 357,
   "id": "85d4a698",
   "metadata": {},
   "outputs": [
    {
     "name": "stdout",
     "output_type": "stream",
     "text": [
      "[[104094.73169158115]\n",
      " [19824.889001842726]\n",
      " [298333.15500133997]\n",
      " [36745.427316534835]\n",
      " [4032.886658753389]\n",
      " [38954.173210468405]\n",
      " [117614.72086704329]\n",
      " [89936.8319333813]\n",
      " [248332.520636277]\n",
      " [120415.81415695106]\n",
      " [62171.41162385906]\n",
      " [478126.43933209765]\n",
      " [234781.8603408884]\n",
      " [368022.51411834045]\n",
      " [479544.1896618755]\n",
      " [33728.42333452255]\n",
      " [180656.4046627278]\n",
      " [565952.3113916534]\n",
      " [105716.9931713829]\n",
      " [532112.6408248]\n",
      " [257732.48948278077]\n",
      " [280599.29574460984]\n",
      " [187292.56912589178]\n",
      " [56256.07726233722]\n",
      " [29009.635799443724]\n",
      " [57097.88689201804]\n",
      " [148981.70924599786]\n",
      " [404478.99822300486]\n",
      " [575060.3280926386]\n",
      " [567898.6987477328]\n",
      " [484709.18495781947]\n",
      " [185281.15233521326]\n",
      " [358684.95546971745]\n",
      " [336574.9395758153]\n",
      " [4370266.608260001]] [[ 8.93562609e-02  6.24274689e-04  1.61753233e-01 ...  2.12615969e-03\n",
      "   1.47864116e-03  6.99578611e-03]\n",
      " [ 1.26432640e-04  6.25557866e-02  3.43939566e-05 ...  2.45294950e-04\n",
      "   4.20795481e-05 -1.42809704e-03]\n",
      " [ 9.25786539e-02  1.98555674e-03  1.55808069e-01 ...  8.23136117e-03\n",
      "   1.60773808e-03  4.02937543e-02]\n",
      " ...\n",
      " [ 1.53298609e-03  1.71884270e-03  7.51054066e-04 ...  1.93012277e-02\n",
      "   1.66233518e-03  7.85173945e-02]\n",
      " [ 5.58313557e-03  1.23324058e-02  4.09852794e-03 ...  2.07041837e-02\n",
      "   6.47308240e-02  4.60229200e-02]\n",
      " [ 6.99578611e-03 -1.42809704e-03  4.02937543e-02 ...  7.85173945e-02\n",
      "   4.60229200e-02  8.17777306e-03]]\n",
      "[1, 1, 1, 1, 1, 1, 1, 1, 1, 1, 1, 1, 1, 1, 1, 1, 1, 1, 1, 1, 1, 1, 1, 1, 1, 1, 1, 1, 1, 1, 1, 1, 1, 1, 2]\n",
      "2\n",
      "[0, 0]\n",
      "0.08935626093172108\n",
      "0.08935626093172108\n",
      "0.08935626093172108\n",
      "0.08935626093172108\n"
     ]
    },
    {
     "ename": "TypeError",
     "evalue": "unsupported operand type(s) for -: 'list' and 'int'",
     "output_type": "error",
     "traceback": [
      "\u001b[1;31m---------------------------------------------------------------------------\u001b[0m",
      "\u001b[1;31mTypeError\u001b[0m                                 Traceback (most recent call last)",
      "\u001b[1;32m~\\AppData\\Local\\Temp/ipykernel_17428/2749343868.py\u001b[0m in \u001b[0;36m<module>\u001b[1;34m\u001b[0m\n\u001b[0;32m      5\u001b[0m \u001b[0mprint\u001b[0m\u001b[1;33m(\u001b[0m\u001b[0mIw2007\u001b[0m\u001b[1;33m,\u001b[0m \u001b[0mRw2007\u001b[0m\u001b[1;33m)\u001b[0m\u001b[1;33m\u001b[0m\u001b[1;33m\u001b[0m\u001b[0m\n\u001b[0;32m      6\u001b[0m \u001b[0mIa2007\u001b[0m\u001b[1;33m,\u001b[0m\u001b[0mRa2007\u001b[0m \u001b[1;33m=\u001b[0m \u001b[0maggregation\u001b[0m\u001b[1;33m(\u001b[0m\u001b[0mIw2007\u001b[0m\u001b[1;33m,\u001b[0m\u001b[0mRw2007\u001b[0m\u001b[1;33m,\u001b[0m\u001b[0ml\u001b[0m\u001b[1;33m)\u001b[0m\u001b[1;33m\u001b[0m\u001b[1;33m\u001b[0m\u001b[0m\n\u001b[1;32m----> 7\u001b[1;33m \u001b[0mIr2007\u001b[0m\u001b[1;33m,\u001b[0m\u001b[0mRr2007\u001b[0m \u001b[1;33m=\u001b[0m \u001b[0mreduction\u001b[0m\u001b[1;33m(\u001b[0m\u001b[0mIw2007\u001b[0m\u001b[1;33m,\u001b[0m\u001b[0mRw2007\u001b[0m\u001b[1;33m,\u001b[0m\u001b[1;33m[\u001b[0m\u001b[1;36m20\u001b[0m\u001b[1;33m,\u001b[0m\u001b[1;36m35\u001b[0m\u001b[1;33m]\u001b[0m\u001b[1;33m)\u001b[0m\u001b[1;33m\u001b[0m\u001b[1;33m\u001b[0m\u001b[0m\n\u001b[0m\u001b[0;32m      8\u001b[0m \u001b[0mroubleVb\u001b[0m \u001b[1;33m=\u001b[0m \u001b[1;33m[\u001b[0m\u001b[1;36m1321903\u001b[0m\u001b[1;33m,\u001b[0m \u001b[1;36m2012151\u001b[0m\u001b[1;33m,\u001b[0m \u001b[1;36m2358546\u001b[0m\u001b[1;33m,\u001b[0m \u001b[1;36m2698867\u001b[0m\u001b[1;33m,\u001b[0m \u001b[1;36m3512183\u001b[0m\u001b[1;33m,\u001b[0m \u001b[1;36m4284803\u001b[0m\u001b[1;33m,\u001b[0m \u001b[1;36m5983036\u001b[0m\u001b[1;33m]\u001b[0m\u001b[1;33m\u001b[0m\u001b[1;33m\u001b[0m\u001b[0m\n\u001b[0;32m      9\u001b[0m \u001b[0mroubleWb\u001b[0m \u001b[1;33m=\u001b[0m \u001b[1;33m[\u001b[0m\u001b[1;36m258500\u001b[0m\u001b[1;33m,\u001b[0m \u001b[1;36m422600\u001b[0m\u001b[1;33m,\u001b[0m \u001b[1;36m490500\u001b[0m\u001b[1;33m,\u001b[0m \u001b[1;36m637900\u001b[0m\u001b[1;33m,\u001b[0m \u001b[1;36m817000\u001b[0m\u001b[1;33m,\u001b[0m \u001b[1;36m1057900\u001b[0m\u001b[1;33m,\u001b[0m \u001b[1;36m1327600\u001b[0m\u001b[1;33m]\u001b[0m\u001b[1;33m\u001b[0m\u001b[1;33m\u001b[0m\u001b[0m\n",
      "\u001b[1;32m~\\AppData\\Local\\Temp/ipykernel_17428/2968182973.py\u001b[0m in \u001b[0;36mreduction\u001b[1;34m(Iw, Rw, unreducedIndustriesNumbers)\u001b[0m\n\u001b[0;32m      3\u001b[0m     \u001b[0mreducedIndustriesNumbers\u001b[0m \u001b[1;33m=\u001b[0m \u001b[0mnp\u001b[0m\u001b[1;33m.\u001b[0m\u001b[0msetdiff1d\u001b[0m\u001b[1;33m(\u001b[0m\u001b[1;33m[\u001b[0m\u001b[0mi\u001b[0m \u001b[1;32mfor\u001b[0m \u001b[0mi\u001b[0m \u001b[1;32min\u001b[0m \u001b[0mrange\u001b[0m\u001b[1;33m(\u001b[0m\u001b[1;36m1\u001b[0m\u001b[1;33m,\u001b[0m\u001b[0mn\u001b[0m\u001b[1;33m+\u001b[0m\u001b[1;36m2\u001b[0m\u001b[1;33m)\u001b[0m\u001b[1;33m]\u001b[0m\u001b[1;33m,\u001b[0m \u001b[0munreducedIndustriesNumbers\u001b[0m\u001b[1;33m)\u001b[0m\u001b[1;33m\u001b[0m\u001b[1;33m\u001b[0m\u001b[0m\n\u001b[0;32m      4\u001b[0m     \u001b[0mn1\u001b[0m \u001b[1;33m=\u001b[0m \u001b[0mlen\u001b[0m\u001b[1;33m(\u001b[0m\u001b[0mreducedIndustriesNumbers\u001b[0m\u001b[1;33m)\u001b[0m\u001b[1;33m\u001b[0m\u001b[1;33m\u001b[0m\u001b[0m\n\u001b[1;32m----> 5\u001b[1;33m     \u001b[0mR11\u001b[0m \u001b[1;33m=\u001b[0m \u001b[0mRw\u001b[0m\u001b[1;33m[\u001b[0m\u001b[0munreducedIndustriesNumbers\u001b[0m\u001b[1;33m-\u001b[0m\u001b[1;36m1\u001b[0m\u001b[1;33m,\u001b[0m\u001b[0munreducedIndustriesNumbers\u001b[0m\u001b[1;33m-\u001b[0m\u001b[1;36m1\u001b[0m\u001b[1;33m]\u001b[0m\u001b[1;33m\u001b[0m\u001b[1;33m\u001b[0m\u001b[0m\n\u001b[0m\u001b[0;32m      6\u001b[0m     \u001b[0mR12\u001b[0m \u001b[1;33m=\u001b[0m \u001b[0mRw\u001b[0m\u001b[1;33m[\u001b[0m\u001b[0munreducedIndustriesNumbers\u001b[0m\u001b[1;33m-\u001b[0m\u001b[1;36m1\u001b[0m\u001b[1;33m,\u001b[0m\u001b[0mreducedIndustriesNumbers\u001b[0m\u001b[1;33m-\u001b[0m\u001b[1;36m1\u001b[0m\u001b[1;33m]\u001b[0m\u001b[1;33m\u001b[0m\u001b[1;33m\u001b[0m\u001b[0m\n\u001b[0;32m      7\u001b[0m     \u001b[0mR21\u001b[0m \u001b[1;33m=\u001b[0m \u001b[0mRw\u001b[0m\u001b[1;33m[\u001b[0m\u001b[0mreducedIndustriesNumbers\u001b[0m\u001b[1;33m-\u001b[0m\u001b[1;36m1\u001b[0m\u001b[1;33m,\u001b[0m\u001b[0munreducedIndustriesNumbers\u001b[0m\u001b[1;33m-\u001b[0m\u001b[1;36m1\u001b[0m\u001b[1;33m]\u001b[0m\u001b[1;33m\u001b[0m\u001b[1;33m\u001b[0m\u001b[0m\n",
      "\u001b[1;31mTypeError\u001b[0m: unsupported operand type(s) for -: 'list' and 'int'"
     ]
    }
   ],
   "source": [
    "Iw2007,Rw2007,P2007,V2007,Y2007,W2007,RubUSDRate2007,GDPError2007, StaticModelError2007 = StaticModelConstruction(2007)\n",
    "n = np.shape(Iw2007)[0]-1\n",
    "l = [1 for i in range(n)]\n",
    "l.append(2)\n",
    "print(Iw2007, Rw2007)\n",
    "Ia2007,Ra2007 = aggregation(Iw2007,Rw2007,l)\n",
    "Ir2007,Rr2007 = reduction(Iw2007,Rw2007,[20,35])\n",
    "roubleVb = [1321903, 2012151, 2358546, 2698867, 3512183, 4284803, 5983036]\n",
    "roubleWb = [258500, 422600, 490500, 637900, 817000, 1057900, 1327600]\n",
    "Vb2007 = roubleVb(end)*RubUSDRate2007\n",
    "Wb2007 = roubleWb(end)*RubUSDRate2007\n",
    "tax = 0.1; # Минимальная ставка подоходного налога в японии\n",
    "rg,Cn,Rc,rw,Rh,Prb,Pcb,Rntb,Rsb = IndexesComputation(Iw2007,V2007,Y2007,W2007,Vb2007,Wb2007,tax)\n",
    "Prr,Rsp,Rnt = EfficiencyAnalysis(Ra2007,Ia2007,W2007)\n",
    "\n",
    "Iw = np.zeros(n+1,7);\n",
    "Rw = np.zeros(n+1,n+1,7);\n",
    "Dw = np.zeros(n+1,n+1,6);\n",
    "Ia = np.zeros(2,7);\n",
    "Ra = np.zeros(2,2,7);\n",
    "Da = np.zeros(2,2,6);\n",
    "Ir = np.zeros(7,7);\n",
    "Rr = np.zeros(7,7,7);\n",
    "Dr = np.zeros(7,7,6);\n",
    "Dl = np.zeros(7,7,6);\n",
    "\n",
    "for i in range(7):\n",
    "    Iw[:,i], Rw[:,:,i], *_ = StaticModelConstruction(2000+i);\n",
    "    Ia[:,i], Ra[:,:,i] = aggregation(Iw[:,i],Rw[:,:,i], [[np.ones(n)], [2]]);\n",
    "    Ir[:,i], Rr[:,:,i] = reduction(Iw[:,i],Rw[:,:,i], np.array([[2], [8], [18], [20], [30], [31], [35]]));\n",
    "    if i != 0:\n",
    "        Dw[:,:,i-1] = DifferentialModelConstruction(Iw[:,i], Iw[:,i-1], Rw[:,:,i]);\n",
    "        Da[:,:,i-1] = DifferentialModelConstruction(Ia[:,i], Ia[:,i-1], Ra[:,:,i]);\n",
    "        Dr[:,:,i-1] = DifferentialModelConstruction(Ir[:,i], Ir[:,i-1], Rr[:,:,i]);\n",
    "        Dl[:,:,i-1] = DifferenceModelConstruction(Ir[:,i], Ir[:,i-1], Rr[:,:,i]);\n",
    "        \n",
    "\n",
    "pIw,pIwError,pIwErrorMean = DifferentialModelPrognosis(np.array([Iw[:,2:-1]]).T, Dw);\n",
    "pIa,pIaError,pIaErrorMean = DifferentialModelPrognosis(np.array(Ia[:,2:-1]).T, Da);\n",
    "pIr,pIrError,pIrErrorMean = DifferentialModelPrognosis(np.array(Ir[:,2:-1]).T, Dr);\n",
    "pIl,pIlError,pIlErrorMean = DifferenceModelPrognosis(np.array(Ir[:,2:-1]).T, Dl);"
   ]
  },
  {
   "cell_type": "code",
   "execution_count": 53,
   "id": "8dbe5d8f",
   "metadata": {},
   "outputs": [
    {
     "name": "stdout",
     "output_type": "stream",
     "text": [
      "[[2 6]\n",
      " [3 8]]\n"
     ]
    }
   ],
   "source": [
    "A = np.array([[2, 3], [6, 8]])\n",
    "C = np.asmatrix(A).H\n",
    "print(C)"
   ]
  },
  {
   "cell_type": "code",
   "execution_count": 25,
   "id": "0a895c67",
   "metadata": {},
   "outputs": [
    {
     "name": "stdout",
     "output_type": "stream",
     "text": [
      "2 3\n"
     ]
    }
   ],
   "source": [
    "a, b, *c = [2,3,5,6,7,8,9]\n",
    "print(a,b)"
   ]
  },
  {
   "cell_type": "code",
   "execution_count": 251,
   "id": "fb66afd7",
   "metadata": {},
   "outputs": [
    {
     "name": "stdout",
     "output_type": "stream",
     "text": [
      "[[5]\n",
      " [6]]\n",
      "[[1 2 5]\n",
      " [3 4 6]]\n"
     ]
    }
   ],
   "source": [
    "A = np.array([[1,2],[3,4]])\n",
    "B = np.array([[5],[6]])\n",
    "print(B)\n",
    "C = np.hstack((A,B))\n",
    "print(C)"
   ]
  },
  {
   "cell_type": "code",
   "execution_count": 290,
   "id": "8983eb2f",
   "metadata": {},
   "outputs": [
    {
     "name": "stdout",
     "output_type": "stream",
     "text": [
      "[[1]\n",
      " [2]\n",
      " [3]]\n",
      "[[1 2 3]]\n"
     ]
    }
   ],
   "source": [
    "A = np.array([[1],[2],[3]])\n",
    "print(A)\n",
    "B = A.T\n",
    "print(B)"
   ]
  },
  {
   "cell_type": "code",
   "execution_count": 349,
   "id": "77915dea",
   "metadata": {},
   "outputs": [
    {
     "name": "stdout",
     "output_type": "stream",
     "text": [
      "0\n"
     ]
    }
   ],
   "source": [
    "arr = np.array([4,8,7])\n",
    "c = len(np.where(arr==5)[0])\n",
    "print(c)"
   ]
  },
  {
   "cell_type": "code",
   "execution_count": 359,
   "id": "01eea682",
   "metadata": {},
   "outputs": [
    {
     "ename": "TypeError",
     "evalue": "cannot unpack non-iterable int object",
     "output_type": "error",
     "traceback": [
      "\u001b[1;31m---------------------------------------------------------------------------\u001b[0m",
      "\u001b[1;31mTypeError\u001b[0m                                 Traceback (most recent call last)",
      "\u001b[1;32m~\\AppData\\Local\\Temp/ipykernel_17428/1551346183.py\u001b[0m in \u001b[0;36m<module>\u001b[1;34m\u001b[0m\n\u001b[0;32m      3\u001b[0m \u001b[0mL\u001b[0m \u001b[1;33m=\u001b[0m \u001b[1;33m[\u001b[0m\u001b[1;36m1\u001b[0m\u001b[1;33m,\u001b[0m\u001b[1;36m3\u001b[0m\u001b[1;33m]\u001b[0m\u001b[1;33m\u001b[0m\u001b[1;33m\u001b[0m\u001b[0m\n\u001b[0;32m      4\u001b[0m \u001b[0mR\u001b[0m \u001b[1;33m=\u001b[0m \u001b[1;33m[\u001b[0m\u001b[1;36m1\u001b[0m\u001b[1;33m,\u001b[0m\u001b[1;36m3\u001b[0m\u001b[1;33m]\u001b[0m\u001b[1;33m\u001b[0m\u001b[1;33m\u001b[0m\u001b[0m\n\u001b[1;32m----> 5\u001b[1;33m \u001b[1;32mfor\u001b[0m \u001b[0mi\u001b[0m\u001b[1;33m,\u001b[0m \u001b[0m_\u001b[0m \u001b[1;32min\u001b[0m \u001b[0mL\u001b[0m\u001b[1;33m:\u001b[0m\u001b[1;33m\u001b[0m\u001b[1;33m\u001b[0m\u001b[0m\n\u001b[0m\u001b[0;32m      6\u001b[0m     \u001b[1;32mfor\u001b[0m \u001b[0mj\u001b[0m \u001b[1;32min\u001b[0m \u001b[0mR\u001b[0m\u001b[1;33m:\u001b[0m\u001b[1;33m\u001b[0m\u001b[1;33m\u001b[0m\u001b[0m\n\u001b[0;32m      7\u001b[0m            \u001b[0mB\u001b[0m\u001b[1;33m[\u001b[0m\u001b[0mi\u001b[0m\u001b[1;33m,\u001b[0m\u001b[0mj\u001b[0m\u001b[1;33m]\u001b[0m \u001b[1;33m=\u001b[0m \u001b[0mA\u001b[0m\u001b[1;33m[\u001b[0m\u001b[0mi\u001b[0m\u001b[1;33m,\u001b[0m\u001b[0mj\u001b[0m\u001b[1;33m]\u001b[0m\u001b[1;33m\u001b[0m\u001b[1;33m\u001b[0m\u001b[0m\n",
      "\u001b[1;31mTypeError\u001b[0m: cannot unpack non-iterable int object"
     ]
    }
   ],
   "source": [
    "A = [[1,2,3],[4,5,6],[7,8,9]]\n",
    "B = []\n",
    "L = [1,3]\n",
    "R = [1,3]\n",
    "for i in L:\n",
    "    for j in R: \n",
    "           B[i,j] = A[i,j]\n",
    "print(B)"
   ]
  },
  {
   "cell_type": "code",
   "execution_count": null,
   "id": "cb31a631",
   "metadata": {},
   "outputs": [],
   "source": []
  }
 ],
 "metadata": {
  "kernelspec": {
   "display_name": "Python 3 (ipykernel)",
   "language": "python",
   "name": "python3"
  },
  "language_info": {
   "codemirror_mode": {
    "name": "ipython",
    "version": 3
   },
   "file_extension": ".py",
   "mimetype": "text/x-python",
   "name": "python",
   "nbconvert_exporter": "python",
   "pygments_lexer": "ipython3",
   "version": "3.9.6"
  }
 },
 "nbformat": 4,
 "nbformat_minor": 5
}
